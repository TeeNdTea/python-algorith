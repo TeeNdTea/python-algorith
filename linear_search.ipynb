{
 "cells": [
  {
   "cell_type": "markdown",
   "id": "cebcafe3",
   "metadata": {},
   "source": [
    "#### <span style=\"color:deeppink\">Simulation of Linear Search</span>\n",
    "https://yongdanielliang.github.io/animation/web/LinearSearchNew.html"
   ]
  },
  {
   "cell_type": "markdown",
   "id": "bead31a3",
   "metadata": {},
   "source": [
    "#### <span style=\"color:orange\">problem-1</span>\n",
    "https://www.geeksforgeeks.org/linear-search/"
   ]
  },
  {
   "cell_type": "code",
   "execution_count": null,
   "id": "6def7cb3",
   "metadata": {},
   "outputs": [
    {
     "name": "stdout",
     "output_type": "stream",
     "text": [
      "2\n"
     ]
    }
   ],
   "source": [
    "def search(lst,target):\n",
    "    for i in range(len(lst)):\n",
    "        if lst[i] == target:\n",
    "            return i\n",
    "    return -1\n",
    "\n",
    "arr = [1,2,3,4]\n",
    "n = 3\n",
    "idx = search(arr,n)\n",
    "if idx != -1:\n",
    "    print(idx)\n",
    "else:\n",
    "    print(-1)"
   ]
  },
  {
   "cell_type": "markdown",
   "id": "e0a32f3b",
   "metadata": {},
   "source": [
    "#### <span style=\"color:orange\">Problem-2 Linear Array</span>\n",
    "https://www.codechef.com/learn/course/searching-sorting/SORTSEARCH1/problems/SESO03"
   ]
  },
  {
   "cell_type": "markdown",
   "id": "d5d028f0",
   "metadata": {},
   "source": [
    "<img src=\"p2Fig1.png\" width=\"500\">"
   ]
  },
  {
   "cell_type": "markdown",
   "id": "c3ee0bf8",
   "metadata": {},
   "source": [
    "#### <span style=\"color:yellow\">What is split()?</span> \n",
    "split() is used to break a string into parts based on spaces (or any character you choose)."
   ]
  },
  {
   "cell_type": "code",
   "execution_count": null,
   "id": "0d1d9407",
   "metadata": {},
   "outputs": [
    {
     "name": "stdout",
     "output_type": "stream",
     "text": [
      "['10', '20', '30']\n"
     ]
    }
   ],
   "source": [
    "line = \"10 20 30\"\n",
    "parts = line.split()\n",
    "print(parts)\n",
    "# You had a string: \"10 20 30\"\n",
    "# split() broke it into a list of strings: ['10', '20', '30']"
   ]
  },
  {
   "cell_type": "markdown",
   "id": "f606039b",
   "metadata": {},
   "source": [
    "#### <span style=\"color:yellow\">What is map()?</span>\n",
    "Maps (also known as Dictionaries) are data structures stores a collection of key-value pairs. map() takes a function and a list, and applies the function to every element of the list."
   ]
  },
  {
   "cell_type": "code",
   "execution_count": null,
   "id": "cd43ef1f",
   "metadata": {},
   "outputs": [
    {
     "name": "stdout",
     "output_type": "stream",
     "text": [
      "[10, 20, 30]\n"
     ]
    }
   ],
   "source": [
    "nums = [\"10\", \"20\", \"30\"]\n",
    "do_mapping = map(int, nums)\n",
    "converted = list(do_mapping)\n",
    "print(converted)\n",
    "# You had a list of strings\n",
    "# map(int, nums) means: apply int() to each string\n",
    "# It turns each \"10\" → 10, \"20\" → 20, like that"
   ]
  },
  {
   "cell_type": "code",
   "execution_count": null,
   "id": "057d3c76",
   "metadata": {},
   "outputs": [
    {
     "name": "stdout",
     "output_type": "stream",
     "text": [
      "No\n"
     ]
    }
   ],
   "source": [
    "def search(lst,k):\n",
    "    for i in range(len(lst)):\n",
    "        if lst[i] == k:\n",
    "            return i\n",
    "    return -1\n",
    "\n",
    "n,k = map(int,input().split()) \n",
    "arr = list(map(int,input().split()))\n",
    "idx = search(arr,k)\n",
    "if idx != -1:\n",
    "    print(\"Yes\")\n",
    "else:\n",
    "    print(\"No\")"
   ]
  },
  {
   "cell_type": "markdown",
   "id": "97bff865",
   "metadata": {},
   "source": [
    "#### <span style=\"color:orange\">Problem-3 Linear String</span>\n",
    "https://www.codechef.com/learn/course/searching-sorting/SORTSEARCH1/problems/SESO04\n"
   ]
  },
  {
   "cell_type": "code",
   "execution_count": 2,
   "id": "4a1f54fa",
   "metadata": {},
   "outputs": [
    {
     "name": "stdout",
     "output_type": "stream",
     "text": [
      "-1\n"
     ]
    }
   ],
   "source": [
    "def search(s,c):\n",
    "    for i in range(len(s)):\n",
    "        if s[i] == c:\n",
    "            return i\n",
    "    return -1\n",
    "\n",
    "string = input()\n",
    "character = input()\n",
    "\n",
    "idx = search(string,character)\n",
    "print(idx)\n"
   ]
  },
  {
   "cell_type": "markdown",
   "id": "05fb4b99",
   "metadata": {},
   "source": [
    "#### <span style=\"color:orange\">Problem-4 Miscellaneous Linear Search</span>\n",
    "https://www.codechef.com/learn/course/searching-sorting/SORTSEARCH1/problems/SESO05"
   ]
  },
  {
   "cell_type": "markdown",
   "id": "866c23f8",
   "metadata": {},
   "source": [
    "<img src=\"p4Fig2.png\" width=\"500\">"
   ]
  },
  {
   "cell_type": "code",
   "execution_count": 2,
   "id": "fb99e860",
   "metadata": {},
   "outputs": [
    {
     "name": "stdout",
     "output_type": "stream",
     "text": [
      "No\n"
     ]
    }
   ],
   "source": [
    "def search(pair,a,b):\n",
    "    for i,j in pair:\n",
    "        if (i == a and j == b) or (i == b and j == a):\n",
    "            return True\n",
    "    return False\n",
    "\n",
    "n = int(input())\n",
    "p = []\n",
    "for _ in range(n):\n",
    "    i,j = map(int,input().split())\n",
    "    p.append((i,j))\n",
    "a,b = map(int,input().split())\n",
    "if search(p,a,b):\n",
    "    print(\"Yes\")\n",
    "else:\n",
    "    print(\"No\")"
   ]
  },
  {
   "cell_type": "markdown",
   "id": "2266feb1",
   "metadata": {},
   "source": [
    "#### <span style=\"color:orange\">Problem-5 Find Kth Character Position</span>\n",
    "https://www.codechef.com/learn/course/searching-sorting/SORTSEARCH2/problems/SESO06"
   ]
  },
  {
   "cell_type": "markdown",
   "id": "ce770b04",
   "metadata": {},
   "source": [
    "<img src=\"p5Fig3.png\" width=\"500\">"
   ]
  },
  {
   "cell_type": "code",
   "execution_count": null,
   "id": "316708d4",
   "metadata": {},
   "outputs": [
    {
     "name": "stdout",
     "output_type": "stream",
     "text": [
      "5\n"
     ]
    }
   ],
   "source": [
    "def search(s1,c1,k):\n",
    "    count = 0\n",
    "    for i in range(len(s1)):\n",
    "        if s1[i] == c1:\n",
    "            count+=1\n",
    "            if count == k:\n",
    "                return i\n",
    "    return -1\n",
    "s1,c1,k = input().split()\n",
    "k = int(k)\n",
    "print(search(s1,c1,k))"
   ]
  },
  {
   "cell_type": "markdown",
   "id": "b553eab2",
   "metadata": {},
   "source": [
    "#### <span style=\"color:orange\">Problem-6 Find smallest and largest numbers</span>\n",
    "https://www.codechef.com/learn/course/searching-sorting/SORTSEARCH2/problems/SESO07"
   ]
  },
  {
   "cell_type": "code",
   "execution_count": null,
   "id": "98622b0f",
   "metadata": {},
   "outputs": [
    {
     "name": "stdout",
     "output_type": "stream",
     "text": [
      "2 56\n"
     ]
    }
   ],
   "source": [
    "n = int(input())  \n",
    "arr = list(map(int, input().split()))  \n",
    "smallest = min(arr)\n",
    "largest = max(arr)\n",
    "print(smallest, largest)\n"
   ]
  },
  {
   "cell_type": "markdown",
   "id": "38df9198",
   "metadata": {},
   "source": [
    "#### <span style=\"color:orange\">Problem-7 Find smallest absolute difference</span>\n",
    "https://www.codechef.com/learn/course/searching-sorting/SORTSEARCH2/problems/SESO08"
   ]
  },
  {
   "cell_type": "code",
   "execution_count": 8,
   "id": "0fabd393",
   "metadata": {},
   "outputs": [
    {
     "name": "stdout",
     "output_type": "stream",
     "text": [
      "6\n"
     ]
    }
   ],
   "source": [
    "def abs_diff(n,k,arr):\n",
    "    min_diff = float('inf')\n",
    "    close = arr[0] \n",
    "    for num in arr:\n",
    "        diff = abs(num - k)\n",
    "\n",
    "        if diff < min_diff:\n",
    "            min_diff = diff\n",
    "            close = num\n",
    "        elif diff == min_diff:\n",
    "            close = min(close,num)\n",
    "    return close\n",
    "\n",
    "n,k = map(int,input().split())\n",
    "arr = list(map(int,input().split()))\n",
    "print(abs_diff(n,k,arr))"
   ]
  }
 ],
 "metadata": {
  "kernelspec": {
   "display_name": "Python 3",
   "language": "python",
   "name": "python3"
  },
  "language_info": {
   "codemirror_mode": {
    "name": "ipython",
    "version": 3
   },
   "file_extension": ".py",
   "mimetype": "text/x-python",
   "name": "python",
   "nbconvert_exporter": "python",
   "pygments_lexer": "ipython3",
   "version": "3.10.0"
  }
 },
 "nbformat": 4,
 "nbformat_minor": 5
}
