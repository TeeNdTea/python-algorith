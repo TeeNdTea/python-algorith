{
 "cells": [
  {
   "cell_type": "markdown",
   "id": "cebcafe3",
   "metadata": {},
   "source": [
    "#### <span style=\"color:deeppink\">Simulation of Linear Search</span>\n",
    "https://yongdanielliang.github.io/animation/web/LinearSearchNew.html"
   ]
  },
  {
   "cell_type": "markdown",
   "id": "bead31a3",
   "metadata": {},
   "source": [
    "#### <span style=\"color:orange\">problem-1</span>\n",
    "https://www.geeksforgeeks.org/linear-search/"
   ]
  },
  {
   "cell_type": "code",
   "execution_count": null,
   "id": "6def7cb3",
   "metadata": {},
   "outputs": [
    {
     "name": "stdout",
     "output_type": "stream",
     "text": [
      "2\n"
     ]
    }
   ],
   "source": [
    "def search(lst,target):\n",
    "    for i in range(len(lst)):\n",
    "        if lst[i] == target:\n",
    "            return i\n",
    "    return -1\n",
    "\n",
    "arr = [1,2,3,4]\n",
    "n = 3\n",
    "idx = search(arr,n)\n",
    "if idx != -1:\n",
    "    print(idx)\n",
    "else:\n",
    "    print(-1)"
   ]
  },
  {
   "cell_type": "markdown",
   "id": "e0a32f3b",
   "metadata": {},
   "source": [
    "#### <span style=\"color:orange\">Problem-2 Linear Array</span>\n",
    "https://www.codechef.com/learn/course/searching-sorting/SORTSEARCH1/problems/SESO03"
   ]
  },
  {
   "cell_type": "code",
   "execution_count": 17,
   "id": "057d3c76",
   "metadata": {},
   "outputs": [
    {
     "name": "stdout",
     "output_type": "stream",
     "text": [
      "No\n"
     ]
    }
   ],
   "source": [
    "def search(lst,k):\n",
    "    for i in range(len(lst)):\n",
    "        if lst[i] == k:\n",
    "            return i\n",
    "    return -1\n",
    "\n",
    "n,k = map(int,input().split()) # Read n (size) and k (elements to find)\n",
    "arr = list(map(int,input().split()))\n",
    "idx = search(arr,k)\n",
    "if idx != -1:\n",
    "    print(\"Yes\")\n",
    "else:\n",
    "    print(\"No\")"
   ]
  },
  {
   "cell_type": "markdown",
   "id": "d5d028f0",
   "metadata": {},
   "source": [
    "<img src=\"p2L.png\" width=\"500\">"
   ]
  },
  {
   "cell_type": "markdown",
   "id": "c3ee0bf8",
   "metadata": {},
   "source": [
    "#### <span style=\"color:springgreen\">What is split()?</span> \n",
    "split() is used to break a string into parts based on spaces (or any character you choose)."
   ]
  },
  {
   "cell_type": "code",
   "execution_count": null,
   "id": "0d1d9407",
   "metadata": {},
   "outputs": [
    {
     "name": "stdout",
     "output_type": "stream",
     "text": [
      "['10', '20', '30']\n"
     ]
    }
   ],
   "source": [
    "line = \"10 20 30\"\n",
    "parts = line.split()\n",
    "print(parts)\n",
    "# You had a string: \"10 20 30\"\n",
    "# split() broke it into a list of strings: ['10', '20', '30']"
   ]
  },
  {
   "cell_type": "markdown",
   "id": "f606039b",
   "metadata": {},
   "source": [
    "#### <span style=\"color:springgreen\">What is map()?</span>\n",
    "Maps (also known as Dictionaries) are data structures stores a collection of key-value pairs. map() takes a function and a list, and applies the function to every element of the list."
   ]
  },
  {
   "cell_type": "code",
   "execution_count": null,
   "id": "cd43ef1f",
   "metadata": {},
   "outputs": [
    {
     "name": "stdout",
     "output_type": "stream",
     "text": [
      "[10, 20, 30]\n"
     ]
    }
   ],
   "source": [
    "nums = [\"10\", \"20\", \"30\"]\n",
    "do_mapping = map(int, nums)\n",
    "converted = list(do_mapping)\n",
    "print(converted)\n",
    "# You had a list of strings\n",
    "# map(int, nums) means: apply int() to each string\n",
    "# It turns each \"10\" → 10, \"20\" → 20, like that"
   ]
  }
 ],
 "metadata": {
  "kernelspec": {
   "display_name": "Python 3",
   "language": "python",
   "name": "python3"
  },
  "language_info": {
   "codemirror_mode": {
    "name": "ipython",
    "version": 3
   },
   "file_extension": ".py",
   "mimetype": "text/x-python",
   "name": "python",
   "nbconvert_exporter": "python",
   "pygments_lexer": "ipython3",
   "version": "3.10.0"
  }
 },
 "nbformat": 4,
 "nbformat_minor": 5
}
